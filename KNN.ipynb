{
 "cells": [
  {
   "cell_type": "markdown",
   "metadata": {
    "hide_input": true
   },
   "source": [
    "$\\newcommand{\\ht}{\\hat \\theta} $\n",
    "$\\newcommand{\\vt}{\\vec \\theta} $\n",
    "$\\newcommand{\\ve}{\\vec \\epsilon} $\n",
    "$\\newcommand{\\vx}{\\vec x} $\n",
    "$\\newcommand{\\vy}{\\vec y} $\n",
    "$\\newcommand{\\hess}{H^T \\Sigma^{-1} H}$\n",
    "$\\newcommand{\\ce}{{\\cal E}}$\n",
    "$\\newcommand{\\cl}{{\\cal L}}$\n",
    "$\\newcommand{\\cn}{{\\cal N}}$\n",
    "$\\newcommand{\\LH}{{\\cal L}(\\vx|\\vt)}$\n",
    "$\\newcommand{\\PO}{{P}(\\vt|\\vx)}$\n",
    "$\\newcommand{\\PR}{{P}(\\vt)}$\n",
    "$\\newcommand{\\EV}{{P}(\\vx)}$\n",
    "$\\newcommand{\\eqnp}[1]{\\begin{pmatrix} #1 \\end{pmatrix}}$\n",
    "$\\newcommand{\\eqnb}[1]{\\begin{bmatrix} #1 \\end{bmatrix}}$"
   ]
  },
  {
   "cell_type": "code",
   "execution_count": 139,
   "metadata": {
    "hide_input": true
   },
   "outputs": [],
   "source": [
    "from __future__ import print_function\n",
    "\n",
    "\n",
    "%matplotlib inline\n",
    "\n",
    "import seaborn as sns; sns.set()\n",
    "import numpy as np\n",
    "import matplotlib.pyplot as plt\n",
    "sns.set_style(\"ticks\")\n",
    "plt.rcParams['figure.figsize'] = [16, 8]\n",
    "\n",
    "from ipywidgets import interact, interactive, fixed, interact_manual\n",
    "import ipywidgets as widgets\n",
    "\n",
    "# Ignore Python warnings\n",
    "\n",
    "import warnings\n",
    "from IPython.display import display\n",
    "\n",
    "warnings.filterwarnings('ignore')\n"
   ]
  },
  {
   "cell_type": "markdown",
   "metadata": {
    "hide_input": true
   },
   "source": [
    "# KNN Methods for Classification, Regression, and Oversampling\n",
    "**Sarah Allam s3747328**\n",
    "\n",
    "This is a tutorial for the KNN applications on tasks of classification, regression, and SMOTE. For the classification and the oversampling tasks, we will illustrate the performance of KNN on the DREAM Challenge.\n",
    "DREAM is a supervised classification problem consisting of 359 total input samples, with only 179 labeled samples, and 186 input features. Therefore, the training set is 179 samples and the test set is 180 samples. The problem is to correctly classify the remaining 180 samples as patients with Acute Myeloid Leukemia (AML) or healthy patients (a binary problem). In addition, the dataset is highly imbalanced, with a majority of the samples pertaining to the healthy class. There are only 20 AML samples in the 180 test set.\n",
    "This is a difficult task and to balance the data of the two classes, we will use SMOTE."
   ]
  },
  {
   "cell_type": "markdown",
   "metadata": {
    "toc": true
   },
   "source": [
    "<h1>Table of Contents<span class=\"tocSkip\"></span></h1>"
   ]
  },
  {
   "cell_type": "code",
   "metadata": {
    "pycharm": {
     "name": "#%%\n"
    }
   },
   "source": [
    "def plot_data_distribution(data, labels):\n",
    "    '''\n",
    "    Plots the imbalanced binary classes.\n",
    "    :param data: inputs, x\n",
    "    :param labels: categorical class labels for the inputs, y\n",
    "    '''\n",
    "    X_train = data[0:len(labels)]\n",
    "\n",
    "    # plot data distribution\n",
    "    healthy = X_train[labels == 1]\n",
    "    aml = X_train[labels == 2]\n",
    "\n",
    "    plt.bar(['Healthy', 'AML'], [healthy.shape[0], aml.shape[0]])\n",
    "    plt.text(0, healthy.shape[0] + 1, str(healthy.shape[0]), ha='center')\n",
    "    plt.text(1, aml.shape[0] + 1, str(aml.shape[0]), ha='center')\n",
    "    plt.xlabel('Classes')\n",
    "    plt.ylabel('Frequency')\n",
    "    plt.title('Data Distribution')\n",
    "    plt.show()"
   ],
   "execution_count": 140,
   "outputs": []
  },
  {
   "cell_type": "markdown",
   "source": [
    "A histogram is a good data vizualization method in order to check the distribution of the data between classes.\n",
    "We can see that the data for the AML patients has very few samples compared to the data with the majority healthy patients."
   ],
   "metadata": {
    "collapsed": false,
    "pycharm": {
     "name": "#%% md\n"
    }
   }
  },
  {
   "cell_type": "code",
   "metadata": {
    "pycharm": {
     "name": "#%%\n"
    }
   },
   "source": [
    "def load_data():\n",
    "    # Load data\n",
    "    data =np.genfromtxt(\"data.csv\", delimiter=\",\")\n",
    "    labels = np.genfromtxt(\"labels.csv\", delimiter=\",\")\n",
    "    # data = np.loadtxt('data.csv')\n",
    "    # labels = np.loadtxt('labels.csv')\n",
    "\n",
    "    # print number of features and the number of samples\n",
    "    display(\"Number of features: \", data.shape[1])\n",
    "    display(\"Number of samples: \", data.shape[0])\n",
    "    display(\"Number of labels: \", labels.shape[0])\n",
    "    return data, labels\n",
    "\n",
    "data, labels = load_data()\n",
    "plot_data_distribution(data, labels)"
   ],
   "execution_count": 141,
   "outputs": [
    {
     "data": {
      "text/plain": "'Number of features: '"
     },
     "metadata": {},
     "output_type": "display_data"
    },
    {
     "data": {
      "text/plain": "186"
     },
     "metadata": {},
     "output_type": "display_data"
    },
    {
     "data": {
      "text/plain": "'Number of samples: '"
     },
     "metadata": {},
     "output_type": "display_data"
    },
    {
     "data": {
      "text/plain": "359"
     },
     "metadata": {},
     "output_type": "display_data"
    },
    {
     "data": {
      "text/plain": "'Number of labels: '"
     },
     "metadata": {},
     "output_type": "display_data"
    },
    {
     "data": {
      "text/plain": "179"
     },
     "metadata": {},
     "output_type": "display_data"
    },
    {
     "data": {
      "text/plain": "<Figure size 1600x800 with 1 Axes>",
      "image/png": "[encoded data removed]"
     },
     "metadata": {},
     "output_type": "display_data"
    }
   ]
  },
  {
   "cell_type": "code",
   "execution_count": 142,
   "outputs": [],
   "source": [
    "from sklearn.metrics import accuracy_score, confusion_matrix, precision_score, \\\n",
    "    recall_score, f1_score\n",
    "\n",
    "def calculate_metric_clf(y_test, y_):\n",
    "    '''\n",
    "    alculates accuracy, precision, recall, f1-score\n",
    "    :param y_test: true labels of the test set\n",
    "    :param y_: predicted labels of the test set\n",
    "    :return: accuracy, precision, recall, f1-score\n",
    "    '''\n",
    "    accuracy = accuracy_score(y_test, y_)\n",
    "    precision = precision_score(y_test, y_)\n",
    "    recall = recall_score(y_test, y_)\n",
    "    f1 = f1_score(y_test, y_, average='weighted')\n",
    "\n",
    "    return accuracy, precision, recall, f1"
   ],
   "metadata": {
    "collapsed": false,
    "pycharm": {
     "name": "#%%\n"
    }
   }
  },
  {
   "cell_type": "markdown",
   "source": [
    "Accuracy is not a good metric score for imbalanced datasets. Classification models tend to overfit on the majority class.\n",
    "This also applies to KNN, since the boundary between the two clusters will be defined by mostly healthy samples. Therefore,\n",
    "the KNN model will tend to be biased towards the majority class. For example, in case the model is completely biased towards the majority class and\n",
    "classifies any incoming inputs as the majority class, the accuracy will still be high:\n",
    "\n",
    "\\begin{align}\n",
    "accuracy = 156 * 100 / 179 =87,15\\%\n",
    "\\end{align}\n",
    "\n",
    "Even when all the minority class samples are misclassified, the accuracy is still 87,15\\%.\n",
    "Instead, we should use precision, recall, and f1-score, which together show information about the rate of true positives, true ngatives, false positives, and false negatives :\n",
    "\n",
    "\\begin{align}\n",
    "precision = true\\_positives / (true\\_positives + false\\_positives) \\\\\n",
    "precision = 156 / (156 + 23)=87,15\\%\n",
    "\\end{align}\n",
    "\n",
    "\n",
    "\n",
    "\\begin{align}\n",
    "recall = true\\_positives / (true\\_positives + true\\_negatives) \\\\\n",
    "recall = 156 / (156 + 0)=100\\%\n",
    "\\end{align}\n",
    "\n",
    "\\begin{align}\n",
    "recall = 2 * precision * recall / (precision + recall) \\\\\n",
    "recall = 93,133\\%\n",
    "\\end{align}\n",
    "\n",
    "The F1-score is a combination between precision and recall. Accuracy does not allow to separate the weight given to the false negatives (AML patients classified as healthy) from false positives (healthy patients classified as AML patients).\n",
    "In the medical domain, it is more grave to miss an AML patient as being healthy, and therefore endangering their life, than treating a healthy patient as a possibly AML patient, which would just result in more tests.\n",
    "Therefore, the metrics used for imbalanced datasets where class predictions are not equally important must be chosen carefully.\n",
    "\n",
    "Next, we will look at a KNN classification on the popular IRIS dataset, where we will only take into consideration 2 features from the dataset in order to plot the KNN boundaries on the predictions.\n",
    "\n",
    "You can interact with the graph by changing the hyperparameters of the KNN model:\n",
    "1. Number of neighbours: this is usually written as 'k' (K-Nearest Neighbours) and decides how many samples will be used to calculate the distance between the input to be classified and the samples in the vicinity. A number that is too small will not generalize well, while a number that is too high will lead to the majority class completely overtaking the minority samples.\n",
    "2. Weight determining neighbours: ‘uniform’ weights all the neighbouring samples equally, while 'distance' weights samples by the inverse of their distance"
   ],
   "metadata": {
    "collapsed": false,
    "pycharm": {
     "name": "#%% md\n"
    }
   }
  },
  {
   "cell_type": "code",
   "execution_count": 143,
   "metadata": {},
   "outputs": [
    {
     "data": {
      "text/plain": "interactive(children=(IntSlider(value=20, description='Number of neighbours:', max=30, min=1), Dropdown(descri…",
      "application/vnd.jupyter.widget-view+json": {
       "version_major": 2,
       "version_minor": 0,
       "model_id": "69f3a197122f443d95b5e7758bf1c72f"
      }
     },
     "metadata": {},
     "output_type": "display_data"
    },
    {
     "data": {
      "text/plain": "<function __main__.generate_knn_iris(n_neighbors, knn_weights)>"
     },
     "execution_count": 143,
     "metadata": {},
     "output_type": "execute_result"
    }
   ],
   "source": [
    "'''\n",
    "Load the IRIS dataset and split the data into a training set and a test set\n",
    "'''\n",
    "\n",
    "import matplotlib.pyplot as plt\n",
    "from ipywidgets import interact, widgets\n",
    "\n",
    "from sklearn.datasets import load_iris\n",
    "from sklearn.model_selection import train_test_split\n",
    "\n",
    "iris = load_iris(as_frame=True)\n",
    "X = iris.data[[\"sepal length (cm)\", \"sepal width (cm)\"]]\n",
    "y = iris.target\n",
    "X_train, X_test, y_train, y_test = train_test_split(X, y, stratify=y, random_state=0)\n",
    "\n",
    "from sklearn.neighbors import KNeighborsClassifier\n",
    "from sklearn.pipeline import Pipeline\n",
    "from sklearn.preprocessing import StandardScaler\n",
    "\n",
    "from sklearn.inspection import DecisionBoundaryDisplay\n",
    "\n",
    "\n",
    "# Function to generate and plot points\n",
    "def generate_knn_iris(n_neighbors, knn_weights):\n",
    "    '''\n",
    "    KNN classifier applied on the IRIS dataset. Plots the 2 features of the data and the KNN boundaries\n",
    "    :param n_neighbors: k\n",
    "    :param knn_weights: uniform or distance\n",
    "    :return: plot\n",
    "    '''\n",
    "    np.random.seed(42)  # Set seed for reproducibility\n",
    "\n",
    "    clf = Pipeline(\n",
    "    steps=[(\"scaler\", StandardScaler()), (\"knn\", KNeighborsClassifier(n_neighbors=n_neighbors, weights=knn_weights))]\n",
    "    )\n",
    "    _, axs = plt.subplots(ncols=1, figsize=(12, 5))\n",
    "\n",
    "    clf.set_params(knn__weights=knn_weights).fit(X_train, y_train)\n",
    "    disp = DecisionBoundaryDisplay.from_estimator(\n",
    "        clf,\n",
    "        X_test,\n",
    "        response_method=\"predict\",\n",
    "        plot_method=\"pcolormesh\",\n",
    "        xlabel=iris.feature_names[0],\n",
    "        ylabel=iris.feature_names[1],\n",
    "        shading=\"auto\",\n",
    "        alpha=0.5,\n",
    "        ax=axs,\n",
    "    )\n",
    "    scatter = disp.ax_.scatter(X.iloc[:, 0], X.iloc[:, 1], c=y, edgecolors=\"k\")\n",
    "    disp.ax_.legend(\n",
    "        scatter.legend_elements()[0],\n",
    "        iris.target_names,\n",
    "        loc=\"lower left\",\n",
    "        title=\"Classes\",\n",
    "    )\n",
    "    _ = disp.ax_.set_title(\n",
    "        f\"3-Class classification\\n(k={clf[-1].n_neighbors}, weights={knn_weights!r})\"\n",
    "    )\n",
    "    plt.show()\n",
    "\n",
    "# Interactive sliders for the number and variance of points\n",
    "interact(\n",
    "    generate_knn_iris,\n",
    "    n_neighbors=widgets.IntSlider(min=1, max=30, step=1, value=20, description='Number of neighbours:'),\n",
    "    knn_weights = widgets.Dropdown(\n",
    "    options=[(\"uniform\", \"uniform\"), (\"distance\", \"distance\")],\n",
    "    value=\"uniform\",\n",
    "    description='Weight determining neighbours:',\n",
    "    )\n",
    ")"
   ]
  },
  {
   "cell_type": "markdown",
   "source": [
    "We return to our DREAM challenge, on the AML dataset. Since there are more than 2 features, we cannot plot all of the feature space against the boundaries, but we can plot the binary class probabilities against two selected features and observe the false negatives/positives rates and the importance of the features for the classification.\n",
    "After we fit the KNN model on the training set, we plot the probability of each class for the test set samples. The classes are one-hot encoded: it transforms categorical data into integers. The first class, class '1', is the 'healthy' class. The second class, class '2', is the 'AML' minority class.\n",
    "You can hover over each data point in order to observe the probability of either class and the true label.\n",
    "There are very few samples in the minority class compared to the majority one, and their class probabilities are spread out. In comparison, the majority class samples tend to have a lower variance within the feature space.\n",
    "Change the two features and see how the probabilities for the classification change alongside the spread of the samples in the feature space."
   ],
   "metadata": {
    "collapsed": false,
    "pycharm": {
     "name": "#%% md\n"
    }
   }
  },
  {
   "cell_type": "code",
   "metadata": {
    "pycharm": {
     "name": "#%%\n"
    }
   },
   "source": [
    "\n",
    "import matplotlib.pyplot as plt\n",
    "from ipywidgets import interact, widgets\n",
    "\n",
    "from sklearn.model_selection import train_test_split\n",
    "\n",
    "\n",
    "X = data[:179]\n",
    "y = labels\n",
    "\n",
    "X_train, X_test, y_train, y_test = train_test_split(X, y, stratify=y, random_state=0)\n",
    "\n",
    "from sklearn.neighbors import KNeighborsClassifier\n",
    "from sklearn.pipeline import Pipeline\n",
    "from sklearn.preprocessing import StandardScaler\n",
    "import plotly.express as px\n",
    "from sklearn.inspection import DecisionBoundaryDisplay\n",
    "\n",
    "\n",
    "# Function to generate and plot points\n",
    "def generate_knn_clf(n_neighbors, knn_weights,feature_1, feature_2):\n",
    "    '''\n",
    "    KNN Classification for the AML dataset. Plots 2 features and the class probabilities.\n",
    "    :param n_neighbors: k\n",
    "    :param knn_weights: uniform or distance\n",
    "    :param feature_1: index of the x-axis feature\n",
    "    :param feature_2: index of the y-axis feature\n",
    "    :return:\n",
    "    '''\n",
    "    np.random.seed(42)  # Set seed for reproducibility\n",
    "\n",
    "    clf = KNeighborsClassifier(n_neighbors=n_neighbors, weights=knn_weights)\n",
    "    clf = clf.fit(X_train, y_train)\n",
    "    y_score = clf.predict_proba(X_test)[:, 1]\n",
    "    # this one gives a categorical prediction instead of a probability\n",
    "    y_pred = clf.predict(X_test)\n",
    "\n",
    "    fig = px.scatter(\n",
    "        X_test, x=feature_1, y=feature_2,\n",
    "        color=y_score, color_continuous_scale='RdBu',\n",
    "        symbol=np.squeeze(y_test),\n",
    "        symbol_map={'1': 'square-dot', '2': 'circle-dot'},\n",
    "        labels={'symbol': 'label', 'color': 'score of <br>first class'}\n",
    "    )\n",
    "    fig.update_traces(marker_size=12, marker_line_width=1.5)\n",
    "    fig.update_layout(legend_orientation='h')\n",
    "    fig.show()\n",
    "\n",
    "# Interactive sliders for the number and variance of points\n",
    "interact(\n",
    "    generate_knn_clf,\n",
    "    n_neighbors=widgets.IntSlider(min=1, max=50, step=1, value=11, description='Number of neighbours:'),\n",
    "    knn_weights = widgets.Dropdown(\n",
    "    options=[(\"uniform\", \"uniform\"), (\"distance\", \"distance\")],\n",
    "    value=\"uniform\",\n",
    "    description='Weight determining neighbours:',\n",
    "    ),\n",
    "    feature_1=widgets.IntSlider(min=0, max=185, step=1, value=0, description='Index of Feature 1:'),\n",
    "    feature_2=widgets.IntSlider(min=0, max=185, step=1, value=1, description='Index of Feature 2:'),\n",
    "\n",
    ")"
   ],
   "execution_count": 144,
   "outputs": [
    {
     "data": {
      "text/plain": "interactive(children=(IntSlider(value=11, description='Number of neighbours:', max=50, min=1), Dropdown(descri…",
      "application/vnd.jupyter.widget-view+json": {
       "version_major": 2,
       "version_minor": 0,
       "model_id": "2b7e23fc935b473f99f174c8ef216bd9"
      }
     },
     "metadata": {},
     "output_type": "display_data"
    },
    {
     "data": {
      "text/plain": "<function __main__.generate_knn_clf(n_neighbors, knn_weights, feature_1, feature_2)>"
     },
     "execution_count": 144,
     "metadata": {},
     "output_type": "execute_result"
    }
   ]
  },
  {
   "cell_type": "markdown",
   "source": [
    "We can apply Principal Component Analysis (PCA) in order to select the best 2 features for plotting the class probabilities.\n",
    "However, for non-illustrative purposes, we would apply PCA and then keep enough features in order to explain at least 95% of the variance in the data.\n",
    "When applying PCA, it is important to avoid data leakage. Data leakage happens when information from the training test skews the test set, and therefore the test set becomes biased and is not representative of a generalized performance of the model anymore.\n",
    "Data leakage happens when we apply a dimensionality reduction method like PCA on the whole dataset, before splitting into training and test sets.\n",
    "PCA should be applied separately on the training set and on the test set. If the training set is representative of the test set, the same features should be selected as the principal components for both sets, but that might not always be the case!\n",
    "Below we plot the first and second best features as extracted by PCA and plo the boundaries of the two classes."
   ],
   "metadata": {
    "collapsed": false,
    "pycharm": {
     "name": "#%% md\n"
    }
   }
  },
  {
   "cell_type": "code",
   "metadata": {
    "pycharm": {
     "name": "#%%\n"
    }
   },
   "source": [
    "from sklearn.preprocessing import StandardScaler\n",
    "from sklearn.decomposition import PCA\n",
    "import pandas as pd\n",
    "\n",
    "def pca(X_train, X_test, n_comps=2):\n",
    "    '''\n",
    "    Standardize data (subtract mean) and apply PCA on the test and training sets separately.\n",
    "    :param X_train: training samples\n",
    "    :param X_test: test samples\n",
    "    :param n_comps: 2, for plotting\n",
    "    :return: transformed train and test samples with only 2 best features\n",
    "    '''\n",
    "    # PCA (on all components)\n",
    "    # standardize data\n",
    "    scaler = StandardScaler()\n",
    "    X_train = scaler.fit_transform(X_train)\n",
    "    X_test = scaler.transform(X_test)\n",
    "    pca = PCA(n_components=n_comps)\n",
    "    X_train = pd.DataFrame(pca.fit_transform(X_train))\n",
    "    X_test = pd.DataFrame(pca.transform(X_test))\n",
    "    explained_variance = np.round(pca.explained_variance_ratio_, decimals=3) * 100\n",
    "    display(\"Explained Variance by the first 2 features: \", explained_variance[0] + explained_variance[1])\n",
    "    display(\"Explained Variance: \", pca.explained_variance_ratio_)\n",
    "\n",
    "    return X_train, X_test\n",
    "\n",
    "def generate_knn_clf_feature_reduction(n_neighbors, knn_weights):\n",
    "    '''\n",
    "    KNN classification on AML with PCA\n",
    "    :param n_neighbors: k\n",
    "    :param knn_weights: uniform or distance\n",
    "    :return: plots\n",
    "    '''\n",
    "    np.random.seed(42)  # Set seed for reproducibility\n",
    "\n",
    "    # dimensionality reduction with PCA\n",
    "    X_train_pca, X_test_pca = pca(X_train, X_test)\n",
    "    clf = KNeighborsClassifier(n_neighbors=n_neighbors, weights=knn_weights)\n",
    "    _, axs = plt.subplots(ncols=1, figsize=(12, 5))\n",
    "    display(\"Training set after PCA\" , X_train_pca)\n",
    "    clf.fit(X_train_pca, y_train)\n",
    "\n",
    "    disp = DecisionBoundaryDisplay.from_estimator(\n",
    "        clf,\n",
    "        X_test_pca,\n",
    "        response_method=\"predict\",\n",
    "        plot_method=\"pcolormesh\",\n",
    "        xlabel=\"best feature pca\",\n",
    "        ylabel=\"second best feature pca\",\n",
    "        shading=\"auto\",\n",
    "        alpha=0.5,\n",
    "        ax=axs,\n",
    "    )\n",
    "    scatter = disp.ax_.scatter(X_test_pca.iloc[:, 0], X_test_pca.iloc[:, 1], c=y_test, edgecolors=\"k\")\n",
    "    disp.ax_.legend(\n",
    "        scatter.legend_elements()[0],\n",
    "        np.unique(y_test),\n",
    "        loc=\"lower left\",\n",
    "        title=\"Classes\",\n",
    "    )\n",
    "    _ = disp.ax_.set_title(\n",
    "        f\"2-Class classification\\n(k={clf.n_neighbors}, weights={knn_weights!r})\"\n",
    "    )\n",
    "    plt.show()\n",
    "\n",
    "interact(\n",
    "    generate_knn_clf_feature_reduction,\n",
    "    n_neighbors=widgets.IntSlider(min=1, max=50, step=1, value=11, description='Number of neighbours:'),\n",
    "    knn_weights = widgets.Dropdown(\n",
    "    options=[(\"uniform\", \"uniform\"), (\"distance\", \"distance\")],\n",
    "    value=\"uniform\",\n",
    "    description='Weight determining neighbours:',\n",
    "    )\n",
    "    # num_blue=widgets.IntSlider(min=1, max=200, step=1, value=100, description='Num Blue Points:'),\n",
    "    # variance_red=widgets.FloatSlider(min=0.1, max=5.0, step=0.1, value=0.5, description='Var Red Points:'),\n",
    "    # variance_blue=widgets.FloatSlider(min=0.1, max=5.0, step=0.1, value=3.0, description='Var Blue Points:')\n",
    ")"
   ],
   "execution_count": 145,
   "outputs": [
    {
     "data": {
      "text/plain": "interactive(children=(IntSlider(value=11, description='Number of neighbours:', max=50, min=1), Dropdown(descri…",
      "application/vnd.jupyter.widget-view+json": {
       "version_major": 2,
       "version_minor": 0,
       "model_id": "2f143b68eff14087a6970b802f2da7b6"
      }
     },
     "metadata": {},
     "output_type": "display_data"
    },
    {
     "data": {
      "text/plain": "<function __main__.generate_knn_clf_feature_reduction(n_neighbors, knn_weights)>"
     },
     "execution_count": 145,
     "metadata": {},
     "output_type": "execute_result"
    }
   ]
  },
  {
   "cell_type": "code",
   "source": [
    "#SMOTE\n",
    "from imblearn.over_sampling import SMOTE, BorderlineSMOTE, ADASYN\n",
    "from imblearn.under_sampling import RandomUnderSampler\n",
    "\n",
    "\n",
    "def construct_oversampling(sampling_method, smote_sampling_strategy, X_train_pca, y_train):\n",
    "    if sampling_method == 'SMOTE':\n",
    "        sampler = SMOTE(sampling_strategy=smote_sampling_strategy)\n",
    "        X_samples, y_samples = sampler.fit_resample(X_train_pca, y_train)\n",
    "        return X_samples, y_samples\n",
    "    if sampling_method == 'BorderlineSMOTE':\n",
    "        sampler = BorderlineSMOTE( sampling_strategy=smote_sampling_strategy)\n",
    "        X_samples, y_samples = sampler.fit_resample(X_train_pca, y_train)\n",
    "        return X_samples, y_samples\n",
    "    if sampling_method == 'ADASYN':\n",
    "        sampler = ADASYN( sampling_strategy=smote_sampling_strategy)\n",
    "        X_samples, y_samples = sampler.fit_resample(X_train_pca, y_train)\n",
    "        return X_samples, y_samples\n",
    "    if sampling_method == 'None':\n",
    "        return X_train_pca, y_train\n",
    "\n",
    "\n",
    "def construct_undersampling(sampling_method, smote_sampling_strategy, X_train_pca, y_train):\n",
    "    if sampling_method == 'RandomUnderSampler':\n",
    "        sampler = RandomUnderSampler( sampling_strategy=smote_sampling_strategy)\n",
    "        X_samples, y_samples = sampler.fit_resample(X_train_pca, y_train)\n",
    "        return X_samples, y_samples\n",
    "    if sampling_method == 'None':\n",
    "        return X_train_pca, y_train\n",
    "\n",
    "def generate_knn_clf_smote(n_neighbors, knn_weights, oversampling_method, undersampling_method, smote_oversampling_strategy, smote_undersampling_strategy):\n",
    "    np.random.seed(42)  # Set seed for reproducibility\n",
    "\n",
    "    # dimensionality reduction with PCA\n",
    "    X_train_pca, X_test_pca = pca(X_train, X_test)\n",
    "    X_smote, y_smote = construct_undersampling(undersampling_method, smote_undersampling_strategy, X_train_pca, y_train)\n",
    "    X_smote, y_smote = construct_oversampling(oversampling_method, smote_oversampling_strategy, X_smote, y_smote)\n",
    "\n",
    "    clf = KNeighborsClassifier(n_neighbors=n_neighbors, weights=knn_weights)\n",
    "    _, axs = plt.subplots(ncols=1, figsize=(12, 5))\n",
    "    clf.fit(X_smote, y_smote)\n",
    "\n",
    "    disp = DecisionBoundaryDisplay.from_estimator(\n",
    "        clf,\n",
    "        X_smote,\n",
    "        response_method=\"predict\",\n",
    "        plot_method=\"pcolormesh\",\n",
    "        xlabel=\"best feature pca\",\n",
    "        ylabel=\"second best feature pca\",\n",
    "        shading=\"auto\",\n",
    "        alpha=0.5,\n",
    "        ax=axs,\n",
    "    )\n",
    "    scatter = disp.ax_.scatter(X_smote.iloc[:, 0], X_smote.iloc[:, 1], c=y_smote, edgecolors=\"k\")\n",
    "    disp.ax_.legend(\n",
    "        scatter.legend_elements()[0],\n",
    "        np.unique(y_smote),\n",
    "        loc=\"lower left\",\n",
    "        title=\"Classes\",\n",
    "    )\n",
    "    _ = disp.ax_.set_title(\n",
    "        f\"2-Class classification\\n(k={clf.n_neighbors}, weights={knn_weights!r})\"\n",
    "    )\n",
    "    plt.show()\n",
    "\n",
    "    y_score = clf.predict_proba(X_smote)[:, 1]\n",
    "    fig = px.scatter(\n",
    "        X_smote, x=0, y=1,\n",
    "        color=y_score, color_continuous_scale='RdBu',\n",
    "        symbol=np.squeeze(y_smote),\n",
    "        symbol_map={'0': 'square-dot', '1': 'circle-dot'},\n",
    "        labels={'symbol': 'label', 'color': 'score of <br>first class'}\n",
    "    )\n",
    "    fig.update_traces(marker_size=12, marker_line_width=1.5)\n",
    "    fig.update_layout(legend_orientation='h')\n",
    "    fig.show()\n",
    "\n",
    "    y_ = clf.predict(X_test_pca)\n",
    "    accuracy, precision, recall, f1 = calculate_metric_clf(y_test, y_)\n",
    "    display(\"Accuracy: \", accuracy)\n",
    "    display(\"precision: \", precision)\n",
    "    display(\"recall: \", recall)\n",
    "    display(\"f1 score: \", f1)\n",
    "\n",
    "\n",
    "interact(\n",
    "    generate_knn_clf_smote,\n",
    "    smote_oversampling_strategy = widgets.Dropdown(\n",
    "    options=[(\"resample only the minority class\", \"minority\"), (\"resample all classes but the minority class\", \"not minority\"),\n",
    "             (\"resample all classes but the majority class\", \"not majority\"), (\"resample all classes\", \"all\")],\n",
    "    value=\"minority\",\n",
    "    description='SMOTE Sampling Strategy:',\n",
    "    ),\n",
    "    smote_undersampling_strategy = widgets.Dropdown(\n",
    "    options=[(\" resample only the majority class\", \"majority\"), (\"resample all classes but the minority class\", \"not minority\"),\n",
    "             (\"resample all classes but the majority class\", \"not majority\"), (\"resample all classes\", \"all\")],\n",
    "    value=\"majority\",\n",
    "    description='SMOTE Sampling Strategy:',\n",
    "    ),\n",
    "    oversampling_method =widgets.Dropdown(\n",
    "    options=[(\"None\", \"None\"), (\"SMOTE\", \"SMOTE\"), (\"BorderlineSMOTE\", \"BorderlineSMOTE\")],\n",
    "    value=\"SMOTE\",\n",
    "    description='Oversampling Method:',\n",
    "    ),\n",
    "    undersampling_method =widgets.Dropdown(\n",
    "    options=[(\"None\", \"None\"), (\"RandomUnderSampler\", \"RandomUnderSampler\")],\n",
    "    value=\"RandomUnderSampler\",\n",
    "    description='Undersampling Method:',\n",
    "    ),\n",
    "    n_neighbors=widgets.IntSlider(min=1, max=50, step=1, value=11, description='Number of neighbours:'),\n",
    "    knn_weights = widgets.Dropdown(\n",
    "    options=[(\"uniform\", \"uniform\"), (\"distance\", \"distance\")],\n",
    "    value=\"uniform\",\n",
    "    description='Weight determining neighbours:',\n",
    "    )\n",
    "    # num_blue=widgets.IntSlider(min=1, max=200, step=1, value=100, description='Num Blue Points:'),\n",
    "    # variance_red=widgets.FloatSlider(min=0.1, max=5.0, step=0.1, value=0.5, description='Var Red Points:'),\n",
    "    # variance_blue=widgets.FloatSlider(min=0.1, max=5.0, step=0.1, value=3.0, description='Var Blue Points:')\n",
    ")\n",
    "\n",
    "\n"
   ],
   "metadata": {
    "collapsed": false,
    "pycharm": {
     "name": "#%%\n"
    }
   },
   "execution_count": 146,
   "outputs": [
    {
     "data": {
      "text/plain": "interactive(children=(IntSlider(value=11, description='Number of neighbours:', max=50, min=1), Dropdown(descri…",
      "application/vnd.jupyter.widget-view+json": {
       "version_major": 2,
       "version_minor": 0,
       "model_id": "ef12fce509b34a7f86e37e52492b9549"
      }
     },
     "metadata": {},
     "output_type": "display_data"
    },
    {
     "data": {
      "text/plain": "<function __main__.generate_knn_clf_smote(n_neighbors, knn_weights, oversampling_method, undersampling_method, smote_oversampling_strategy, smote_undersampling_strategy)>"
     },
     "execution_count": 146,
     "metadata": {},
     "output_type": "execute_result"
    }
   ]
  },
  {
   "cell_type": "code",
   "execution_count": 147,
   "outputs": [
    {
     "data": {
      "text/plain": "interactive(children=(IntSlider(value=40, description='Number of data Points:', max=200, min=10), FloatSlider(…",
      "application/vnd.jupyter.widget-view+json": {
       "version_major": 2,
       "version_minor": 0,
       "model_id": "7baaf24b44b9403581cde6e7acf3eb23"
      }
     },
     "metadata": {},
     "output_type": "display_data"
    },
    {
     "data": {
      "text/plain": "<function __main__.generate_knn_regressor(n_data_points, noise, n_neighbors, knn_weights)>"
     },
     "execution_count": 147,
     "metadata": {},
     "output_type": "execute_result"
    }
   ],
   "source": [
    "from sklearn import neighbors\n",
    "from sklearn.metrics import mean_squared_error\n",
    "# Function to generate and plot points\n",
    "def generate_knn_regressor(n_data_points, noise, n_neighbors, knn_weights):\n",
    "    np.random.seed(42)\n",
    "    X = np.sort(np.random.rand(n_data_points, 1), axis=0)\n",
    "    T = np.linspace(0, 1, 500)[:, np.newaxis]\n",
    "    y_true = np.sin(X).ravel() # select everything but the last 100 points\n",
    "    y_test = np.sin(T).ravel() # select the last 100 points for test set\n",
    "    # Add noise to targets\n",
    "    # display(noise)\n",
    "    # random_indices = np.random.choice(len(y), size=noise, replace=False)\n",
    "    noise = np.random.normal(loc=0, scale=noise, size=len(y_true))\n",
    "\n",
    "    # Add noise to the original array\n",
    "    y = y_true + noise\n",
    "\n",
    "    knn = neighbors.KNeighborsRegressor(n_neighbors, weights=knn_weights)\n",
    "    y_ = knn.fit(X, y).predict(T)\n",
    "\n",
    "    error = np.sqrt(mean_squared_error(y_test, y_))\n",
    "    display(\"Error is:  \", error)\n",
    "\n",
    "    plt.subplot(1, 1, 1)\n",
    "    plt.scatter(X, y, color=\"darkorange\", label=\"noisy data\")\n",
    "    plt.plot(T, y_, color=\"navy\", label=\"prediction\")\n",
    "    plt.plot(X, y_true, color=\"black\", label=\"true function\")\n",
    "    plt.axis(\"tight\")\n",
    "    plt.legend()\n",
    "    plt.title(\"KNeighborsRegressor (k = %i, weights = '%s')\" % (n_neighbors, knn_weights))\n",
    "\n",
    "    plt.tight_layout()\n",
    "    plt.show()\n",
    "\n",
    "# Interactive sliders for the number and variance of points\n",
    "interact(\n",
    "    generate_knn_regressor,\n",
    "    n_data_points=widgets.IntSlider(min=10, max=200, step=1, value=40, description='Number of data Points:'),\n",
    "    noise=widgets.FloatSlider(min=0, max=2, step=0.1, value=0.1, description='Noise added to data:'),\n",
    "    n_neighbors=widgets.IntSlider(min=1, max=50, step=1, value=11, description='Number of neighbours:'),\n",
    "    knn_weights = widgets.Dropdown(\n",
    "    options=[(\"uniform\", \"uniform\"), (\"distance\", \"distance\")],\n",
    "    value=\"uniform\",\n",
    "    description='Weight determining neighbours:',\n",
    "    )\n",
    "    # variance_blue=widgets.FloatSlider(min=0.1, max=5.0, step=0.1, value=3.0, description='Var Blue Points:')\n",
    ")\n"
   ],
   "metadata": {
    "collapsed": false,
    "pycharm": {
     "name": "#%%\n"
    }
   }
  },
  {
   "cell_type": "code",
   "execution_count": 147,
   "outputs": [],
   "source": [
    "\n",
    "\n"
   ],
   "metadata": {
    "collapsed": false,
    "pycharm": {
     "name": "#%%\n"
    }
   }
  }
 ],
 "metadata": {
  "kernelspec": {
   "display_name": "Python 3",
   "language": "python",
   "name": "python3"
  },
  "language_info": {
   "codemirror_mode": {
    "name": "ipython",
    "version": 3
   },
   "file_extension": ".py",
   "mimetype": "text/x-python",
   "name": "python",
   "nbconvert_exporter": "python",
   "pygments_lexer": "ipython3",
   "version": "3.7.4"
  },
  "toc": {
   "base_numbering": "3",
   "nav_menu": {},
   "number_sections": true,
   "sideBar": true,
   "skip_h1_title": false,
   "title_cell": "Table of Contents",
   "title_sidebar": "Contents",
   "toc_cell": true,
   "toc_position": {
    "height": "calc(100% - 180px)",
    "left": "10px",
    "top": "150px",
    "width": "224px"
   },
   "toc_section_display": true,
   "toc_window_display": false
  },
  "varInspector": {
   "cols": {
    "lenName": 16,
    "lenType": 16,
    "lenVar": 40
   },
   "kernels_config": {
    "python": {
     "delete_cmd_postfix": "",
     "delete_cmd_prefix": "del ",
     "library": "var_list.py",
     "varRefreshCmd": "print(var_dic_list())"
    },
    "r": {
     "delete_cmd_postfix": ") ",
     "delete_cmd_prefix": "rm(",
     "library": "var_list.r",
     "varRefreshCmd": "cat(var_dic_list()) "
    }
   },
   "types_to_exclude": [
    "module",
    "function",
    "builtin_function_or_method",
    "instance",
    "_Feature"
   ],
   "window_display": false
  }
 },
 "nbformat": 4,
 "nbformat_minor": 2
}