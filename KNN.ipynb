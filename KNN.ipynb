{
 "cells": [
  {
   "cell_type": "markdown",
   "metadata": {
    "hide_input": true
   },
   "source": [
    "$\\newcommand{\\ht}{\\hat \\theta} $\n",
    "$\\newcommand{\\vt}{\\vec \\theta} $\n",
    "$\\newcommand{\\ve}{\\vec \\epsilon} $\n",
    "$\\newcommand{\\vx}{\\vec x} $\n",
    "$\\newcommand{\\vy}{\\vec y} $\n",
    "$\\newcommand{\\hess}{H^T \\Sigma^{-1} H}$\n",
    "$\\newcommand{\\ce}{{\\cal E}}$\n",
    "$\\newcommand{\\cl}{{\\cal L}}$\n",
    "$\\newcommand{\\cn}{{\\cal N}}$\n",
    "$\\newcommand{\\LH}{{\\cal L}(\\vx|\\vt)}$\n",
    "$\\newcommand{\\PO}{{P}(\\vt|\\vx)}$\n",
    "$\\newcommand{\\PR}{{P}(\\vt)}$\n",
    "$\\newcommand{\\EV}{{P}(\\vx)}$\n",
    "$\\newcommand{\\eqnp}[1]{\\begin{pmatrix} #1 \\end{pmatrix}}$\n",
    "$\\newcommand{\\eqnb}[1]{\\begin{bmatrix} #1 \\end{bmatrix}}$"
   ]
  },
  {
   "cell_type": "code",
   "execution_count": 38,
   "metadata": {
    "hide_input": true
   },
   "outputs": [],
   "source": [
    "from __future__ import print_function\n",
    "\n",
    "\n",
    "%matplotlib inline\n",
    "\n",
    "import seaborn as sns; sns.set()\n",
    "import numpy as np\n",
    "import matplotlib.pyplot as plt\n",
    "sns.set_style(\"ticks\")\n",
    "plt.rcParams['figure.figsize'] = [16, 8]\n",
    "\n",
    "from ipywidgets import interact, interactive, fixed, interact_manual\n",
    "import ipywidgets as widgets\n",
    "\n",
    "# Ignore Python warnings\n",
    "\n",
    "import warnings\n",
    "from IPython.display import display\n",
    "\n",
    "# warnings.filterwarnings('ignore')\n"
   ]
  },
  {
   "cell_type": "markdown",
   "metadata": {
    "hide_input": true
   },
   "source": [
    "# KNN Methods for Classification, Regression, and Oversampling\n",
    "**Sarah Allam s3747328**\n"
   ]
  },
  {
   "cell_type": "markdown",
   "metadata": {
    "toc": true
   },
   "source": [
    "<h1>Table of Contents<span class=\"tocSkip\"></span></h1>"
   ]
  },
  {
   "cell_type": "code",
   "metadata": {
    "pycharm": {
     "name": "#%%\n"
    }
   },
   "source": [
    "def plot_data_distribution(data, labels):\n",
    "    X_train = data[0:len(labels)]\n",
    "\n",
    "    # plot data distribution\n",
    "    healthy = X_train[labels == 1]\n",
    "    aml = X_train[labels == 2]\n",
    "\n",
    "    plt.bar(['Healthy', 'AML'], [healthy.shape[0], aml.shape[0]])\n",
    "    plt.text(0, healthy.shape[0] + 1, str(healthy.shape[0]), ha='center')\n",
    "    plt.text(1, aml.shape[0] + 1, str(aml.shape[0]), ha='center')\n",
    "    plt.xlabel('Classes')\n",
    "    plt.ylabel('Frequency')\n",
    "    plt.title('Data Distribution')\n",
    "    plt.show()"
   ],
   "execution_count": 39,
   "outputs": []
  },
  {
   "cell_type": "code",
   "metadata": {
    "pycharm": {
     "name": "#%%\n"
    }
   },
   "source": [
    "def load_data():\n",
    "    # Load data\n",
    "    data =np.genfromtxt(\"data.csv\", delimiter=\",\")\n",
    "    labels = np.genfromtxt(\"labels.csv\", delimiter=\",\")\n",
    "    # data = np.loadtxt('data.csv')\n",
    "    # labels = np.loadtxt('labels.csv')\n",
    "\n",
    "    # print number of features and the number of samples\n",
    "    display(\"Number of features: \", data.shape[1])\n",
    "    display(\"Number of samples: \", data.shape[0])\n",
    "    display(\"Number of labels: \", labels.shape[0])\n",
    "    return data, labels\n",
    "\n",
    "data, labels = load_data()\n",
    "plot_data_distribution(data, labels)"
   ],
   "execution_count": 40,
   "outputs": [
    {
     "data": {
      "text/plain": "'Number of features: '"
     },
     "metadata": {},
     "output_type": "display_data"
    },
    {
     "data": {
      "text/plain": "186"
     },
     "metadata": {},
     "output_type": "display_data"
    },
    {
     "data": {
      "text/plain": "'Number of samples: '"
     },
     "metadata": {},
     "output_type": "display_data"
    },
    {
     "data": {
      "text/plain": "359"
     },
     "metadata": {},
     "output_type": "display_data"
    },
    {
     "data": {
      "text/plain": "'Number of labels: '"
     },
     "metadata": {},
     "output_type": "display_data"
    },
    {
     "data": {
      "text/plain": "179"
     },
     "metadata": {},
     "output_type": "display_data"
    },
    {
     "data": {
      "text/plain": "<Figure size 1600x800 with 1 Axes>",
      "image/png": "[encoded data removed]"
     },
     "metadata": {},
     "output_type": "display_data"
    }
   ]
  },
  {
   "cell_type": "code",
   "execution_count": 41,
   "metadata": {},
   "outputs": [
    {
     "data": {
      "text/plain": "interactive(children=(IntSlider(value=11, description='Number of neighbours:', max=50, min=1), Dropdown(descri…",
      "application/vnd.jupyter.widget-view+json": {
       "version_major": 2,
       "version_minor": 0,
       "model_id": "b07730173001481891918dadbfa4da3c"
      }
     },
     "metadata": {},
     "output_type": "display_data"
    },
    {
     "data": {
      "text/plain": "<function __main__.generate_knn(n_neighbors, knn_weights)>"
     },
     "execution_count": 41,
     "metadata": {},
     "output_type": "execute_result"
    }
   ],
   "source": [
    "import matplotlib.pyplot as plt\n",
    "from ipywidgets import interact, widgets\n",
    "\n",
    "from sklearn.datasets import load_iris\n",
    "from sklearn.model_selection import train_test_split\n",
    "\n",
    "iris = load_iris(as_frame=True)\n",
    "X = iris.data[[\"sepal length (cm)\", \"sepal width (cm)\"]]\n",
    "y = iris.target\n",
    "X_train, X_test, y_train, y_test = train_test_split(X, y, stratify=y, random_state=0)\n",
    "\n",
    "from sklearn.neighbors import KNeighborsClassifier\n",
    "from sklearn.pipeline import Pipeline\n",
    "from sklearn.preprocessing import StandardScaler\n",
    "\n",
    "from sklearn.inspection import DecisionBoundaryDisplay\n",
    "\n",
    "\n",
    "# Function to generate and plot points\n",
    "def generate_knn(n_neighbors, knn_weights):\n",
    "    np.random.seed(42)  # Set seed for reproducibility\n",
    "\n",
    "    clf = Pipeline(\n",
    "    steps=[(\"scaler\", StandardScaler()), (\"knn\", KNeighborsClassifier(n_neighbors=n_neighbors, weights=knn_weights))]\n",
    "    )\n",
    "    _, axs = plt.subplots(ncols=1, figsize=(12, 5))\n",
    "\n",
    "    clf.set_params(knn__weights=knn_weights).fit(X_train, y_train)\n",
    "    disp = DecisionBoundaryDisplay.from_estimator(\n",
    "        clf,\n",
    "        X_test,\n",
    "        response_method=\"predict\",\n",
    "        plot_method=\"pcolormesh\",\n",
    "        xlabel=iris.feature_names[0],\n",
    "        ylabel=iris.feature_names[1],\n",
    "        shading=\"auto\",\n",
    "        alpha=0.5,\n",
    "        ax=axs,\n",
    "    )\n",
    "    scatter = disp.ax_.scatter(X.iloc[:, 0], X.iloc[:, 1], c=y, edgecolors=\"k\")\n",
    "    disp.ax_.legend(\n",
    "        scatter.legend_elements()[0],\n",
    "        iris.target_names,\n",
    "        loc=\"lower left\",\n",
    "        title=\"Classes\",\n",
    "    )\n",
    "    _ = disp.ax_.set_title(\n",
    "        f\"3-Class classification\\n(k={clf[-1].n_neighbors}, weights={knn_weights!r})\"\n",
    "    )\n",
    "    plt.show()\n",
    "\n",
    "# Interactive sliders for the number and variance of points\n",
    "interact(\n",
    "    generate_knn,\n",
    "    n_neighbors=widgets.IntSlider(min=1, max=50, step=1, value=11, description='Number of neighbours:'),\n",
    "    knn_weights = widgets.Dropdown(\n",
    "    options=[(\"uniform\", \"uniform\"), (\"distance\", \"distance\")],\n",
    "    value=\"uniform\",\n",
    "    description='Weight determining neighbours:',\n",
    "    )\n",
    "    # num_blue=widgets.IntSlider(min=1, max=200, step=1, value=100, description='Num Blue Points:'),\n",
    "    # variance_red=widgets.FloatSlider(min=0.1, max=5.0, step=0.1, value=0.5, description='Var Red Points:'),\n",
    "    # variance_blue=widgets.FloatSlider(min=0.1, max=5.0, step=0.1, value=3.0, description='Var Blue Points:')\n",
    ")\n"
   ]
  },
  {
   "cell_type": "code",
   "metadata": {
    "pycharm": {
     "name": "#%%\n"
    }
   },
   "source": [
    "\n",
    "import matplotlib.pyplot as plt\n",
    "from ipywidgets import interact, widgets\n",
    "\n",
    "from sklearn.model_selection import train_test_split\n",
    "\n",
    "X = data[:179]\n",
    "y = labels\n",
    "display(len(X))\n",
    "display(len(y))\n",
    "\n",
    "X_train, X_test, y_train, y_test = train_test_split(X, y, stratify=y, random_state=0)\n",
    "\n",
    "from sklearn.neighbors import KNeighborsClassifier\n",
    "from sklearn.pipeline import Pipeline\n",
    "from sklearn.preprocessing import StandardScaler\n",
    "import plotly.express as px\n",
    "from sklearn.inspection import DecisionBoundaryDisplay\n",
    "\n",
    "\n",
    "# Function to generate and plot points\n",
    "def generate_knn_clf(n_neighbors, knn_weights):\n",
    "    np.random.seed(42)  # Set seed for reproducibility\n",
    "\n",
    "    clf = KNeighborsClassifier(n_neighbors=n_neighbors, weights=knn_weights)\n",
    "    clf = clf.fit(X_train, y_train)\n",
    "    y_score = clf.predict_proba(X_test)[:, 1]\n",
    "    # print(\"y_score : \", y_score)\n",
    "    y_pred = clf.predict(X_test)\n",
    "\n",
    "    fig = px.scatter(\n",
    "        X_test, x=0, y=1,\n",
    "        color=y_score, color_continuous_scale='RdBu',\n",
    "        symbol=np.squeeze(y_test),\n",
    "        symbol_map={'0': 'square-dot', '1': 'circle-dot'},\n",
    "        labels={'symbol': 'label', 'color': 'score of <br>first class'}\n",
    "    )\n",
    "    fig.update_traces(marker_size=12, marker_line_width=1.5)\n",
    "    fig.update_layout(legend_orientation='h')\n",
    "    fig.show()\n",
    "\n",
    "# Interactive sliders for the number and variance of points\n",
    "interact(\n",
    "    generate_knn_clf,\n",
    "    n_neighbors=widgets.IntSlider(min=1, max=50, step=1, value=11, description='Number of neighbours:'),\n",
    "    knn_weights = widgets.Dropdown(\n",
    "    options=[(\"uniform\", \"uniform\"), (\"distance\", \"distance\")],\n",
    "    value=\"uniform\",\n",
    "    description='Weight determining neighbours:',\n",
    "    )\n",
    "    # num_blue=widgets.IntSlider(min=1, max=200, step=1, value=100, description='Num Blue Points:'),\n",
    "    # variance_red=widgets.FloatSlider(min=0.1, max=5.0, step=0.1, value=0.5, description='Var Red Points:'),\n",
    "    # variance_blue=widgets.FloatSlider(min=0.1, max=5.0, step=0.1, value=3.0, description='Var Blue Points:')\n",
    ")\n",
    "\n"
   ],
   "execution_count": 42,
   "outputs": [
    {
     "data": {
      "text/plain": "179"
     },
     "metadata": {},
     "output_type": "display_data"
    },
    {
     "data": {
      "text/plain": "179"
     },
     "metadata": {},
     "output_type": "display_data"
    },
    {
     "data": {
      "text/plain": "interactive(children=(IntSlider(value=11, description='Number of neighbours:', max=50, min=1), Dropdown(descri…",
      "application/vnd.jupyter.widget-view+json": {
       "version_major": 2,
       "version_minor": 0,
       "model_id": "3e6930d9abe5481b855c03a36a99f75c"
      }
     },
     "metadata": {},
     "output_type": "display_data"
    },
    {
     "data": {
      "text/plain": "<function __main__.generate_knn_clf(n_neighbors, knn_weights)>"
     },
     "execution_count": 42,
     "metadata": {},
     "output_type": "execute_result"
    }
   ]
  },
  {
   "cell_type": "code",
   "metadata": {
    "pycharm": {
     "name": "#%%\n"
    }
   },
   "source": [
    "from sklearn import neighbors\n",
    "from sklearn.metrics import mean_squared_error\n",
    "# Function to generate and plot points\n",
    "def generate_knn_regressor(n_data_points, noise, n_neighbors, knn_weights):\n",
    "    np.random.seed(42)\n",
    "    X = np.sort(np.random.rand(n_data_points, 1), axis=0)\n",
    "    T = np.linspace(0, 1, 500)[:, np.newaxis]\n",
    "    y_true = np.sin(X).ravel() # select everything but the last 100 points\n",
    "    y_test = np.sin(T).ravel() # select the last 100 points for test set\n",
    "    # Add noise to targets\n",
    "    # display(noise)\n",
    "    # random_indices = np.random.choice(len(y), size=noise, replace=False)\n",
    "    noise = np.random.normal(loc=0, scale=noise, size=len(y_true))\n",
    "\n",
    "    # Add noise to the original array\n",
    "    y = y_true + noise\n",
    "\n",
    "    knn = neighbors.KNeighborsRegressor(n_neighbors, weights=knn_weights)\n",
    "    y_ = knn.fit(X, y).predict(T)\n",
    "\n",
    "    error = np.sqrt(mean_squared_error(y_test, y_))\n",
    "    display(\"Error is:  \", error)\n",
    "\n",
    "    plt.subplot(1, 1, 1)\n",
    "    plt.scatter(X, y, color=\"darkorange\", label=\"noisy data\")\n",
    "    plt.plot(T, y_, color=\"navy\", label=\"prediction\")\n",
    "    plt.plot(X, y_true, color=\"black\", label=\"true function\")\n",
    "    plt.axis(\"tight\")\n",
    "    plt.legend()\n",
    "    plt.title(\"KNeighborsRegressor (k = %i, weights = '%s')\" % (n_neighbors, knn_weights))\n",
    "\n",
    "    plt.tight_layout()\n",
    "    plt.show()\n",
    "\n",
    "# Interactive sliders for the number and variance of points\n",
    "interact(\n",
    "    generate_knn_regressor,\n",
    "    n_data_points=widgets.IntSlider(min=10, max=200, step=1, value=40, description='Number of data Points:'),\n",
    "    noise=widgets.FloatSlider(min=0, max=2, step=0.1, value=0.1, description='Noise added to data:'),\n",
    "    n_neighbors=widgets.IntSlider(min=1, max=50, step=1, value=11, description='Number of neighbours:'),\n",
    "    knn_weights = widgets.Dropdown(\n",
    "    options=[(\"uniform\", \"uniform\"), (\"distance\", \"distance\")],\n",
    "    value=\"uniform\",\n",
    "    description='Weight determining neighbours:',\n",
    "    )\n",
    "    # variance_blue=widgets.FloatSlider(min=0.1, max=5.0, step=0.1, value=3.0, description='Var Blue Points:')\n",
    ")"
   ],
   "execution_count": 43,
   "outputs": [
    {
     "data": {
      "text/plain": "interactive(children=(IntSlider(value=40, description='Number of data Points:', max=200, min=10), FloatSlider(…",
      "application/vnd.jupyter.widget-view+json": {
       "version_major": 2,
       "version_minor": 0,
       "model_id": "adc3c498bbe948eaae1368651cba2653"
      }
     },
     "metadata": {},
     "output_type": "display_data"
    },
    {
     "data": {
      "text/plain": "<function __main__.generate_knn_regressor(n_data_points, noise, n_neighbors, knn_weights)>"
     },
     "execution_count": 43,
     "metadata": {},
     "output_type": "execute_result"
    }
   ]
  },
  {
   "cell_type": "code",
   "source": [
    "#SMOTE\n",
    "from sklearn.model_selection import train_test_split\n",
    "\n",
    "X = data[:179]\n",
    "y = labels\n",
    "display(len(X))\n",
    "display(len(y))\n",
    "\n",
    "X_train, X_test, y_train, y_test = train_test_split(X, y, stratify=y, random_state=0)"
   ],
   "metadata": {
    "collapsed": false,
    "pycharm": {
     "name": "#%%\n"
    }
   },
   "execution_count": 44,
   "outputs": [
    {
     "data": {
      "text/plain": "179"
     },
     "metadata": {},
     "output_type": "display_data"
    },
    {
     "data": {
      "text/plain": "179"
     },
     "metadata": {},
     "output_type": "display_data"
    }
   ]
  },
  {
   "cell_type": "code",
   "execution_count": 44,
   "outputs": [],
   "source": [],
   "metadata": {
    "collapsed": false,
    "pycharm": {
     "name": "#%%\n"
    }
   }
  }
 ],
 "metadata": {
  "kernelspec": {
   "display_name": "Python 3",
   "language": "python",
   "name": "python3"
  },
  "language_info": {
   "codemirror_mode": {
    "name": "ipython",
    "version": 3
   },
   "file_extension": ".py",
   "mimetype": "text/x-python",
   "name": "python",
   "nbconvert_exporter": "python",
   "pygments_lexer": "ipython3",
   "version": "3.7.4"
  },
  "toc": {
   "base_numbering": "3",
   "nav_menu": {},
   "number_sections": true,
   "sideBar": true,
   "skip_h1_title": false,
   "title_cell": "Table of Contents",
   "title_sidebar": "Contents",
   "toc_cell": true,
   "toc_position": {
    "height": "calc(100% - 180px)",
    "left": "10px",
    "top": "150px",
    "width": "224px"
   },
   "toc_section_display": true,
   "toc_window_display": false
  },
  "varInspector": {
   "cols": {
    "lenName": 16,
    "lenType": 16,
    "lenVar": 40
   },
   "kernels_config": {
    "python": {
     "delete_cmd_postfix": "",
     "delete_cmd_prefix": "del ",
     "library": "var_list.py",
     "varRefreshCmd": "print(var_dic_list())"
    },
    "r": {
     "delete_cmd_postfix": ") ",
     "delete_cmd_prefix": "rm(",
     "library": "var_list.r",
     "varRefreshCmd": "cat(var_dic_list()) "
    }
   },
   "types_to_exclude": [
    "module",
    "function",
    "builtin_function_or_method",
    "instance",
    "_Feature"
   ],
   "window_display": false
  }
 },
 "nbformat": 4,
 "nbformat_minor": 2
}